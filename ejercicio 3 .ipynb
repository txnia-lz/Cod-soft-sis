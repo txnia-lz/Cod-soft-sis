{
 "cells": [
  {
   "cell_type": "code",
   "execution_count": null,
   "id": "419a003e-653b-411e-a1bd-ec0e79d1e0b9",
   "metadata": {},
   "outputs": [],
   "source": [
    "class pizza:\n",
    "    pass\n",
    "class salsa(pizza):\n",
    "    pass\n",
    "class masa:\n",
    "    pass\n",
    "class queso():\n",
    "    pass\n",
    "    "
   ]
  }
 ],
 "metadata": {
  "kernelspec": {
   "display_name": "Python [conda env:base] *",
   "language": "python",
   "name": "conda-base-py"
  },
  "language_info": {
   "codemirror_mode": {
    "name": "ipython",
    "version": 3
   },
   "file_extension": ".py",
   "mimetype": "text/x-python",
   "name": "python",
   "nbconvert_exporter": "python",
   "pygments_lexer": "ipython3",
   "version": "3.12.7"
  }
 },
 "nbformat": 4,
 "nbformat_minor": 5
}
